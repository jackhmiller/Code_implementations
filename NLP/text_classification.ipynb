{
 "cells": [
  {
   "cell_type": "markdown",
   "id": "a6833a96-cf13-4ca4-9423-d6387782455e",
   "metadata": {},
   "source": [
    "Normally I would write a organized module for modeling, but for time and demonstration purposes (both EDA and development flow), a Jupyter notebook is easier. \n",
    "\n",
    "After reviewing the data, I would have taken an ML-based approach rather than DL, using feature engineering based on text lengths, unique word counts, missing values etc. "
   ]
  },
  {
   "cell_type": "code",
   "execution_count": 1,
   "id": "ae7b51f3-c30f-4867-b54c-793fb5742921",
   "metadata": {},
   "outputs": [],
   "source": [
    "import pandas as pd\n",
    "import numpy as np\n",
    "import seaborn as sns\n",
    "import nltk\n",
    "from nltk.corpus import stopwords\n",
    "from nltk.stem import SnowballStemmer\n",
    "from nltk.corpus import wordnet\n",
    "from nltk.stem import WordNetLemmatizer\n",
    "from nltk.tokenize import word_tokenize\n",
    "import string\n",
    "import re\n",
    "from sklearn.feature_extraction.text import CountVectorizer\n",
    "from sklearn.decomposition import PCA\n",
    "from sklearn.metrics.pairwise import cosine_similarity\n",
    "from sklearn.cluster import KMeans\n",
    "import matplotlib.pyplot as plt\n",
    "import multiprocessing\n",
    "from functools import partial\n",
    "from contextlib import contextmanager\n",
    "from collections import ChainMap\n",
    "from tqdm import tqdm\n",
    "from sklearn.model_selection import KFold\n",
    "from sklearn.metrics import accuracy_score\n",
    "import torch\n",
    "import torch.nn as nn\n",
    "import torch.optim as optim\n",
    "from torch.utils.data import Dataset, DataLoader\n",
    "from sentence_transformers import SentenceTransformer\n",
    "import pickle\n",
    "import hdbscan\n",
    "%matplotlib inline"
   ]
  },
  {
   "cell_type": "code",
   "execution_count": 2,
   "id": "eb08008d-6a0e-49bf-af77-692d8664ccfa",
   "metadata": {},
   "outputs": [
    {
     "name": "stderr",
     "output_type": "stream",
     "text": [
      "[nltk_data] Downloading package stopwords to\n",
      "[nltk_data]     C:\\Users\\JackMiller\\AppData\\Roaming\\nltk_data...\n",
      "[nltk_data]   Package stopwords is already up-to-date!\n",
      "[nltk_data] Downloading package wordnet to\n",
      "[nltk_data]     C:\\Users\\JackMiller\\AppData\\Roaming\\nltk_data...\n",
      "[nltk_data]   Package wordnet is already up-to-date!\n"
     ]
    },
    {
     "data": {
      "text/plain": [
       "True"
      ]
     },
     "execution_count": 2,
     "metadata": {},
     "output_type": "execute_result"
    }
   ],
   "source": [
    "nltk.download('stopwords')\n",
    "nltk.download('wordnet')"
   ]
  },
  {
   "cell_type": "code",
   "execution_count": 4,
   "id": "72820e2d-0f45-4285-9c16-2514c6bb26d6",
   "metadata": {},
   "outputs": [],
   "source": [
    "df = pd.read_csv(r\"../Downloads/data.csv\")\n",
    "df = df.fillna('')\n",
    "df = df.astype(str)"
   ]
  },
  {
   "cell_type": "code",
   "execution_count": 5,
   "id": "bd6d14f0-c225-4dc1-84f1-86ffe671495c",
   "metadata": {},
   "outputs": [],
   "source": [
    "df2 = df.copy()"
   ]
  },
  {
   "cell_type": "markdown",
   "id": "f208adf5-7194-4e78-8fe6-c70fd2f7f31b",
   "metadata": {
    "tags": []
   },
   "source": [
    "## Preprocess"
   ]
  },
  {
   "cell_type": "code",
   "execution_count": 6,
   "id": "fdc4e477-9760-4aea-8914-d5afe1053dc8",
   "metadata": {
    "tags": []
   },
   "outputs": [],
   "source": [
    "class TextPreprocessor:\n",
    "    def __init__(self, text):\n",
    "        self.text = text\n",
    "        self.stemmer = SnowballStemmer('english')\n",
    "        self.lemmatizer = WordNetLemmatizer()\n",
    "    \n",
    "    def run_preprocessing(self):\n",
    "        text = self.text.apply(self.preprocess)\n",
    "        text = text.apply(self.remove_stopwords)\n",
    "        # text = text.apply(self.stemming)\n",
    "        text = text.apply(self.lemmatizing)\n",
    "        return text\n",
    "    \n",
    "    @staticmethod\n",
    "    def preprocess(text):\n",
    "        text = text.lower() \n",
    "        text=text.strip()  \n",
    "        text=re.compile('<.*?>').sub('', text) \n",
    "        text = re.compile('[%s]' % re.escape(string.punctuation)).sub(' ', text) \n",
    "        text = re.sub('\\s+', ' ', text) \n",
    "        text = re.sub(r'\\[[0-9]*\\]',' ',text) #[0-9] \n",
    "        text=re.sub(r'[^\\w\\s]', '', str(text).lower().strip())\n",
    "        text = re.sub(r'\\d',' ',text) \n",
    "        text = re.sub(r'\\s+',' ',text) \n",
    "        return text\n",
    "    \n",
    "    @staticmethod\n",
    "    def remove_stopwords(text):\n",
    "        chars = [i for i in text.split() if i not in stopwords.words('english')]\n",
    "        return ' '.join(chars)\n",
    "    \n",
    "    def stemming(self, text):\n",
    "        chars = [self.stemmer.stem(i) for i in word_tokenize(text)]\n",
    "        return \" \".join(chars)\n",
    "    \n",
    "    def lemmatizing(self, text):\n",
    "        lemmatizer = self.lemmatizer\n",
    "        words = nltk.word_tokenize(text)\n",
    "        chars = [lemmatizer.lemmatize(word) for word in words]\n",
    "\n",
    "        return \" \".join(chars)"
   ]
  },
  {
   "cell_type": "code",
   "execution_count": 7,
   "id": "2e6db665-84e0-4366-b40c-8d8bfe7821e5",
   "metadata": {},
   "outputs": [],
   "source": [
    "df2['clean_categories'] = TextPreprocessor(df['categories']).run_preprocessing()\n",
    "df2['clean_reviews'] = TextPreprocessor(df['reviews']).run_preprocessing()\n",
    "\n",
    "label_mapping = {'722511': 1, '722513': 0}\n",
    "df2['is_full_service'] = df['label'].map(label_mapping)\n",
    "df2['photo_labels_clean'] = df['photo_labels_high_confidence'].apply(lambda x: list(set(x.split(' '))))\n",
    "df2['clean_desc'] = TextPreprocessor(df['description']).run_preprocessing()"
   ]
  },
  {
   "cell_type": "markdown",
   "id": "8401314f-e968-4964-afdd-52474c928cf2",
   "metadata": {},
   "source": [
    "# EDA"
   ]
  },
  {
   "cell_type": "code",
   "execution_count": 8,
   "id": "565f9bd0-0247-405a-acae-de571434fb55",
   "metadata": {},
   "outputs": [
    {
     "data": {
      "text/plain": [
       "722511    650\n",
       "722513    650\n",
       "Name: label, dtype: int64"
      ]
     },
     "execution_count": 8,
     "metadata": {},
     "output_type": "execute_result"
    }
   ],
   "source": [
    "# Class distribution\n",
    "df2['label'].value_counts()"
   ]
  },
  {
   "cell_type": "code",
   "execution_count": 9,
   "id": "fc8924db-175a-4cce-b84d-6518b769452a",
   "metadata": {},
   "outputs": [
    {
     "name": "stdout",
     "output_type": "stream",
     "text": [
      "Null website articles for full service: 0.14692307692307693\n"
     ]
    }
   ],
   "source": [
    "print(\"Null website articles for full service:\", len(df2[(df2['is_full_service'] == 1) & (df2['website_articles'] == '')])/len(df2))"
   ]
  },
  {
   "cell_type": "code",
   "execution_count": 10,
   "id": "dae0e92b-1a42-4b1b-b3f4-2adb635246c3",
   "metadata": {},
   "outputs": [
    {
     "name": "stdout",
     "output_type": "stream",
     "text": [
      "Null website articles for partial service: 0.23153846153846153\n"
     ]
    }
   ],
   "source": [
    "print(\"Null website articles for partial service:\", len(df2[(df2['is_full_service'] == 0) & (df2['website_articles'] == '')])/len(df2))"
   ]
  },
  {
   "cell_type": "code",
   "execution_count": 11,
   "id": "eff76941-d835-4e73-a533-52ee60441783",
   "metadata": {
    "tags": []
   },
   "outputs": [
    {
     "data": {
      "text/plain": [
       "0.06"
      ]
     },
     "execution_count": 11,
     "metadata": {},
     "output_type": "execute_result"
    }
   ],
   "source": [
    "len(df2[(df2['is_full_service'] == 1) & (df2['photo_labels_high_confidence'] == '')])/len(df2)"
   ]
  },
  {
   "cell_type": "code",
   "execution_count": 12,
   "id": "afcd6fa5-2587-44b4-a2fb-4d8dbcd3525e",
   "metadata": {
    "tags": []
   },
   "outputs": [
    {
     "data": {
      "text/plain": [
       "0.17076923076923076"
      ]
     },
     "execution_count": 12,
     "metadata": {},
     "output_type": "execute_result"
    }
   ],
   "source": [
    "len(df2[(df2['is_full_service'] == 0) & (df2['photo_labels_high_confidence'] == '')])/len(df2)"
   ]
  },
  {
   "cell_type": "code",
   "execution_count": 14,
   "id": "633e5a11-5497-46a3-9381-cc8a42570b36",
   "metadata": {},
   "outputs": [
    {
     "data": {
      "text/plain": [
       "<AxesSubplot:xlabel='clean_categories', ylabel='Count'>"
      ]
     },
     "execution_count": 14,
     "metadata": {},
     "output_type": "execute_result"
    },
    {
     "data": {
      "image/png": "[encoded data removed]",
      "text/plain": [
       "<Figure size 432x288 with 1 Axes>"
      ]
     },
     "metadata": {
      "needs_background": "light"
     },
     "output_type": "display_data"
    }
   ],
   "source": [
    "sns.histplot(df2[df2['is_full_service'] == 1]['clean_categories'].astype('str').apply(lambda x: len(x)))"
   ]
  },
  {
   "cell_type": "code",
   "execution_count": 15,
   "id": "e4060614-b293-4210-87ea-a991f113c968",
   "metadata": {},
   "outputs": [
    {
     "data": {
      "text/plain": [
       "<AxesSubplot:xlabel='clean_categories', ylabel='Count'>"
      ]
     },
     "execution_count": 15,
     "metadata": {},
     "output_type": "execute_result"
    },
    {
     "data": {
      "image/png": "[encoded data removed]",
      "text/plain": [
       "<Figure size 432x288 with 1 Axes>"
      ]
     },
     "metadata": {
      "needs_background": "light"
     },
     "output_type": "display_data"
    }
   ],
   "source": [
    "sns.histplot(df2[df2['is_full_service'] == 0]['clean_categories'].astype('str').apply(lambda x: len(x)))"
   ]
  },
  {
   "cell_type": "code",
   "execution_count": 16,
   "id": "5d623f21-4ec1-418a-ba76-4bd38afae751",
   "metadata": {},
   "outputs": [
    {
     "data": {
      "text/plain": [
       "<AxesSubplot:xlabel='clean_reviews', ylabel='Count'>"
      ]
     },
     "execution_count": 16,
     "metadata": {},
     "output_type": "execute_result"
    },
    {
     "data": {
      "image/png": "[encoded data removed]",
      "text/plain": [
       "<Figure size 432x288 with 1 Axes>"
      ]
     },
     "metadata": {
      "needs_background": "light"
     },
     "output_type": "display_data"
    }
   ],
   "source": [
    "sns.histplot(df2[df2['is_full_service'] == 0]['clean_reviews'].astype('str').apply(lambda x: len(x)))"
   ]
  },
  {
   "cell_type": "code",
   "execution_count": 17,
   "id": "7b5e3927-0db4-4ed6-8406-bb3c10593b41",
   "metadata": {},
   "outputs": [
    {
     "data": {
      "text/plain": [
       "<AxesSubplot:xlabel='clean_reviews', ylabel='Count'>"
      ]
     },
     "execution_count": 17,
     "metadata": {},
     "output_type": "execute_result"
    },
    {
     "data": {
      "image/png": "[encoded data removed]",
      "text/plain": [
       "<Figure size 432x288 with 1 Axes>"
      ]
     },
     "metadata": {
      "needs_background": "light"
     },
     "output_type": "display_data"
    }
   ],
   "source": [
    "sns.histplot(df2[df2['is_full_service'] == 1]['clean_reviews'].astype('str').apply(lambda x: len(x)))"
   ]
  },
  {
   "cell_type": "markdown",
   "id": "2d37a574-dd9c-4dcd-887f-8eeefd021428",
   "metadata": {
    "tags": []
   },
   "source": [
    "## N Grams"
   ]
  },
  {
   "cell_type": "code",
   "execution_count": 18,
   "id": "0ccc70f5-aa3f-47d3-bc11-4a34fc07e6f1",
   "metadata": {},
   "outputs": [],
   "source": [
    "number=20"
   ]
  },
  {
   "cell_type": "code",
   "execution_count": 19,
   "id": "9f31b5bf-cd0d-4a1f-b8e8-67bb6dc66955",
   "metadata": {},
   "outputs": [],
   "source": [
    "# bigram\n",
    "no_fs_rev = df2[df2['is_full_service'] == 0]['clean_reviews']\n",
    "vec =CountVectorizer(ngram_range=(2, 2)).fit(no_fs_rev) \n",
    "bag_of_words = vec.transform(no_fs_rev)\n",
    "sum_words = bag_of_words.sum(axis=0) \n",
    "words_freq = [(word, sum_words[0, idx]) for word, idx in vec.vocabulary_.items()]\n",
    "words_freq =sorted(words_freq, key = lambda x: x[1], reverse=True)"
   ]
  },
  {
   "cell_type": "code",
   "execution_count": 20,
   "id": "2982101e-3795-4507-8f31-01df3b7d1681",
   "metadata": {},
   "outputs": [
    {
     "data": {
      "image/png": "[encoded data removed]",
      "text/plain": [
       "<Figure size 1008x576 with 1 Axes>"
      ]
     },
     "metadata": {
      "needs_background": "light"
     },
     "output_type": "display_data"
    }
   ],
   "source": [
    "common_words = words_freq[:number]\n",
    "dft3 = pd.DataFrame(common_words, columns = ['words' , 'count'])\n",
    "\n",
    "plt.figure(figsize=(14,8))\n",
    "plt.barh(dft3[\"words\"][::-1], dft3[\"count\"][::-1])\n",
    "plt.ylabel(\"Words\")\n",
    "plt.xlabel(\"Frequency\")\n",
    "plt.title(\"Top 20 Bigrams\")\n",
    "plt.grid(True)"
   ]
  },
  {
   "cell_type": "code",
   "execution_count": 21,
   "id": "970948a7-339f-484f-8486-6714f9c11bdb",
   "metadata": {},
   "outputs": [],
   "source": [
    "# bigram\n",
    "fs_rev = df2[df2['is_full_service'] == 1]['clean_reviews']\n",
    "vec =CountVectorizer(ngram_range=(2, 2)).fit(fs_rev) \n",
    "bag_of_words = vec.transform(fs_rev)\n",
    "sum_words = bag_of_words.sum(axis=0) \n",
    "words_freq = [(word, sum_words[0, idx]) for word, idx in vec.vocabulary_.items()]\n",
    "words_freq =sorted(words_freq, key = lambda x: x[1], reverse=True)"
   ]
  },
  {
   "cell_type": "code",
   "execution_count": 22,
   "id": "4398ba57-6f6c-4085-a088-2800e6b049cb",
   "metadata": {},
   "outputs": [
    {
     "data": {
      "image/png": "[encoded data removed]",
      "text/plain": [
       "<Figure size 1008x576 with 1 Axes>"
      ]
     },
     "metadata": {
      "needs_background": "light"
     },
     "output_type": "display_data"
    }
   ],
   "source": [
    "common_words = words_freq[:number]\n",
    "dft3 = pd.DataFrame(common_words, columns = ['words' , 'count'])\n",
    "\n",
    "plt.figure(figsize=(14,8))\n",
    "plt.barh(dft3[\"words\"][::-1], dft3[\"count\"][::-1])\n",
    "plt.ylabel(\"Words\")\n",
    "plt.xlabel(\"Frequency\")\n",
    "plt.title(\"Top 20 Bigrams No Full Service\")\n",
    "plt.grid(True)"
   ]
  },
  {
   "cell_type": "code",
   "execution_count": 24,
   "id": "18ac38ec-08ff-4ee1-a7de-1d09a61f2f03",
   "metadata": {},
   "outputs": [],
   "source": [
    "# trigram\n",
    "fs_rev = df2[df2['is_full_service'] == 1]['clean_reviews']\n",
    "vec = CountVectorizer(ngram_range=(3, 3)).fit(fs_rev) \n",
    "bag_of_words = vec.transform(fs_rev)\n",
    "sum_words = bag_of_words.sum(axis=0) \n",
    "words_freq = [(word, sum_words[0, idx]) for word, idx in vec.vocabulary_.items()]\n",
    "words_freq =sorted(words_freq, key = lambda x: x[1], reverse=True)"
   ]
  },
  {
   "cell_type": "code",
   "execution_count": 25,
   "id": "6cdca4d8-edf9-4135-97ed-d90b7234926e",
   "metadata": {
    "tags": []
   },
   "outputs": [
    {
     "data": {
      "image/png": "[encoded data removed]",
      "text/plain": [
       "<Figure size 1008x576 with 1 Axes>"
      ]
     },
     "metadata": {
      "needs_background": "light"
     },
     "output_type": "display_data"
    }
   ],
   "source": [
    "common_words = words_freq[:number]\n",
    "dft3 = pd.DataFrame(common_words, columns = ['words' , 'count'])\n",
    "\n",
    "plt.figure(figsize=(14,8))\n",
    "plt.barh(dft3[\"words\"][::-1], dft3[\"count\"][::-1])\n",
    "plt.ylabel(\"Words\")\n",
    "plt.xlabel(\"Frequency\")\n",
    "plt.title(\"Top 20 Trigrams Full Service\")\n",
    "plt.grid(True)"
   ]
  },
  {
   "cell_type": "markdown",
   "id": "33f82327-5034-4c17-8fd6-497607e1361f",
   "metadata": {},
   "source": [
    "---------"
   ]
  },
  {
   "cell_type": "markdown",
   "id": "df7c51fc-315e-437e-9fcb-3dd82c125276",
   "metadata": {},
   "source": [
    "## Create Input Dataframe"
   ]
  },
  {
   "cell_type": "code",
   "execution_count": 26,
   "id": "4f5c16ed-dbae-47a8-b5d1-6796d14b7857",
   "metadata": {},
   "outputs": [],
   "source": [
    "modeling_df = pd.DataFrame()"
   ]
  },
  {
   "cell_type": "code",
   "execution_count": 27,
   "id": "8c4a3f3f-0268-4d75-8590-236b9923de22",
   "metadata": {},
   "outputs": [],
   "source": [
    "label_mapping = {'722511': 1, '722513': 0}\n",
    "modeling_df['is_full_service'] = df['label'].map(label_mapping)\n",
    "modeling_df['photo_labels'] = df['photo_labels_high_confidence'].apply(lambda x: list(set(x.split(' '))))"
   ]
  },
  {
   "cell_type": "code",
   "execution_count": 28,
   "id": "beba922d-16b1-450d-9881-7bbbefc4bba6",
   "metadata": {},
   "outputs": [],
   "source": [
    "features = ['categories', 'description', 'website_articles', 'reviews', 'website_text_concatenation', 'tabular_company_about']"
   ]
  },
  {
   "cell_type": "code",
   "execution_count": null,
   "id": "5acaf4b4-af30-4820-a38b-45857e3c43bf",
   "metadata": {},
   "outputs": [],
   "source": [
    "for feature in features:\n",
    "    print(f\"working on: {feature}\")\n",
    "    modeling_df[feature] = TextPreprocessor(df[feature]).run_preprocessing()"
   ]
  },
  {
   "cell_type": "code",
   "execution_count": null,
   "id": "56e96f9a-030e-4cb0-8b79-206b692001dc",
   "metadata": {},
   "outputs": [],
   "source": [
    "modeling_df['photo_labels'] = modeling_df['photo_labels'].apply(lambda x: ', '.join(map(str, x)))"
   ]
  },
  {
   "cell_type": "code",
   "execution_count": null,
   "id": "b27583fa-c1ae-4094-82b2-1b78a777177e",
   "metadata": {},
   "outputs": [],
   "source": [
    "modeling_df.to_csv('modeling_df.csv')"
   ]
  },
  {
   "cell_type": "code",
   "execution_count": 29,
   "id": "5b9f665a-febb-4c83-a8df-435ef907777a",
   "metadata": {},
   "outputs": [],
   "source": [
    "modeling_df = pd.read_csv('modeling_df.csv')"
   ]
  },
  {
   "cell_type": "markdown",
   "id": "3d6d402c-15a2-45d0-ba6b-ddae7a7faab1",
   "metadata": {},
   "source": [
    "## Create embeddings"
   ]
  },
  {
   "cell_type": "code",
   "execution_count": 30,
   "id": "3025687e-2ab1-451d-af1b-07389031a224",
   "metadata": {},
   "outputs": [],
   "source": [
    "def load_glove_embeddings(file_path):\n",
    "    embeddings = {}\n",
    "    with open(file_path, 'r', encoding='utf-8') as f:\n",
    "        for line in f:\n",
    "            values = line.strip().split()\n",
    "            word = values[0]\n",
    "            vector = np.array(values[1:], dtype='float32')\n",
    "            embeddings[word] = vector\n",
    "    return embeddings\n",
    "\n",
    "def create_and_pool_glove(words: list, model):\n",
    "    [model[word] for word in input_words if word in model.wv]\n",
    "    \n",
    "\n",
    "def apply_word_embedding(lists_of_words, model, pooling_method='mean', target_shape =(100,)):\n",
    "    \"\"\"\n",
    "    GloVe word embeddings are D=100, and the BERT sentence embeddings are 384. In order to create feature embeddings of the same length,\n",
    "    the GloVe embeddings are padded with 284 zeros to reach the same length as the sentence embeddings. \n",
    "    \"\"\"\n",
    "    embeddings = []\n",
    "\n",
    "    for word_list in lists_of_words:\n",
    "        word_embeddings = [model[word] for word in word_list if word in model.keys()]\n",
    "\n",
    "        if not word_embeddings:\n",
    "            ready_emb = np.zeros(target_shape)\n",
    "        else:\n",
    "            if pooling_method == 'mean':\n",
    "                pooled_embedding = np.mean(word_embeddings, axis=0)\n",
    "            elif pooling_method == 'max':\n",
    "                pooled_embedding = np.max(word_embeddings, axis=0)\n",
    "            elif pooling_method == 'sum':\n",
    "                pooled_embedding = np.sum(word_embeddings, axis=0)\n",
    "            \n",
    "            # pad_width = [(0, max(0, target_shape[i] - pooled_embeddings.shape[i])) for i in range(len(target_shape))]\n",
    "            ready_emb = np.pad(pooled_embedding, (0, 284), mode='constant', constant_values=0)\n",
    "\n",
    "        \n",
    "        embeddings.append(ready_emb)\n",
    "\n",
    "    return embeddings"
   ]
  },
  {
   "cell_type": "code",
   "execution_count": 31,
   "id": "337ce65d-c1a3-4848-a746-c873eeb9af73",
   "metadata": {},
   "outputs": [],
   "source": [
    "glove_embeddings = load_glove_embeddings('../Downloads/glove.6B.100d.txt')"
   ]
  },
  {
   "cell_type": "code",
   "execution_count": null,
   "id": "be0d7b98-d459-4c07-a84e-236e3470a6aa",
   "metadata": {},
   "outputs": [],
   "source": [
    "word_embeddings = []\n",
    "for feature in features:\n",
    "    if feature != 'reviews':\n",
    "        print(f\"working on: {feature}\")\n",
    "        word_embeddings.append(np.array(apply_word_embedding(modeling_df[feature], glove_embeddings, pooling_method='sum', target_shape=(384,))))\n",
    "        \n",
    "with open('word_embeddings.pkl', 'wb') as f:\n",
    "    pickle.dump(np.array(word_embeddings), f)"
   ]
  },
  {
   "cell_type": "code",
   "execution_count": null,
   "id": "7fe50f99-e53f-486f-93f7-ce4aef5e9fc6",
   "metadata": {},
   "outputs": [],
   "source": [
    "# BERT sentence embeddings\n",
    "\n",
    "BERT_sentence_model = SentenceTransformer(\"paraphrase-MiniLM-L6-v2\")\n",
    "\n",
    "def encode_sentence(sentence):\n",
    "    return BERT_sentence_model.encode(sentence)\n",
    "\n",
    "sentence_embeddings = modeling_df['reviews'].apply(encode_sentence)\n",
    "s_e = np.array(sentence_embeddings)\n",
    "\n",
    "with open('sentence_embeddings.pkl', 'wb') as f:\n",
    "    pickle.dump(s_e, f)"
   ]
  },
  {
   "cell_type": "code",
   "execution_count": 36,
   "id": "77056214-e49a-4548-a4aa-29389c32addd",
   "metadata": {},
   "outputs": [],
   "source": [
    "word_embeddings = pd.read_pickle('word_embeddings.pkl')\n",
    "s_e = pd.read_pickle('sentence_embeddings.pkl')"
   ]
  },
  {
   "cell_type": "code",
   "execution_count": 33,
   "id": "590cd46a-d4b8-4c57-880b-c34712692172",
   "metadata": {},
   "outputs": [],
   "source": [
    "frames = []\n",
    "for col, i in list(zip([feature for feature in features if feature != 'reviews'], range(len(word_embeddings)))):\n",
    "    temp = pd.DataFrame(word_embeddings[i])\n",
    "    temp[col] = temp.values.tolist()\n",
    "    temp[col] = temp[col].apply(lambda x: np.array(x))\n",
    "    frames.append(temp[[col]])"
   ]
  },
  {
   "cell_type": "code",
   "execution_count": 34,
   "id": "46dbbc97-f89d-4278-93d1-826359da7556",
   "metadata": {},
   "outputs": [],
   "source": [
    "word_emb_df = pd.concat(frames, axis=1)"
   ]
  },
  {
   "cell_type": "code",
   "execution_count": 37,
   "id": "bb94567f-cd41-4479-8767-b7acf9163943",
   "metadata": {},
   "outputs": [],
   "source": [
    "final_df = pd.concat([word_emb_df, pd.DataFrame(s_e)], axis=1)"
   ]
  },
  {
   "cell_type": "code",
   "execution_count": null,
   "id": "dc625667-4e24-44e0-8e3f-36f7660d11d5",
   "metadata": {},
   "outputs": [],
   "source": [
    "with open('final_embedding_df.pkl', 'wb') as f:\n",
    "    pickle.dump(final_df, f)"
   ]
  },
  {
   "cell_type": "code",
   "execution_count": 38,
   "id": "7ae15c38-4318-400a-b5e4-614a8462bfa9",
   "metadata": {},
   "outputs": [],
   "source": [
    "final_df = pd.read_pickle('final_embedding_df.pkl')"
   ]
  },
  {
   "cell_type": "code",
   "execution_count": 39,
   "id": "eb10f0dc-bbdb-43c4-bcce-d1e3dd872baa",
   "metadata": {},
   "outputs": [
    {
     "data": {
      "text/html": [
       "<div>\n",
       "<style scoped>\n",
       "    .dataframe tbody tr th:only-of-type {\n",
       "        vertical-align: middle;\n",
       "    }\n",
       "\n",
       "    .dataframe tbody tr th {\n",
       "        vertical-align: top;\n",
       "    }\n",
       "\n",
       "    .dataframe thead th {\n",
       "        text-align: right;\n",
       "    }\n",
       "</style>\n",
       "<table border=\"1\" class=\"dataframe\">\n",
       "  <thead>\n",
       "    <tr style=\"text-align: right;\">\n",
       "      <th></th>\n",
       "      <th>categories</th>\n",
       "      <th>description</th>\n",
       "      <th>website_articles</th>\n",
       "      <th>website_text_concatenation</th>\n",
       "      <th>tabular_company_about</th>\n",
       "      <th>0</th>\n",
       "    </tr>\n",
       "  </thead>\n",
       "  <tbody>\n",
       "    <tr>\n",
       "      <th>0</th>\n",
       "      <td>[-37.96372604370117, 25.06910514831543, 11.810...</td>\n",
       "      <td>[-109.79251861572266, 87.87286376953125, 37.89...</td>\n",
       "      <td>[-893.5466918945312, 936.6048583984375, 181.56...</td>\n",
       "      <td>[-771.6729125976562, 824.125244140625, 167.966...</td>\n",
       "      <td>[-48.09288024902344, 55.33234786987305, 19.783...</td>\n",
       "      <td>[-0.06836716, -0.12800892, 0.21751304, -0.1467...</td>\n",
       "    </tr>\n",
       "    <tr>\n",
       "      <th>1</th>\n",
       "      <td>[0.0, 0.0, 0.0, 0.0, 0.0, 0.0, 0.0, 0.0, 0.0, ...</td>\n",
       "      <td>[0.0, 0.0, 0.0, 0.0, 0.0, 0.0, 0.0, 0.0, 0.0, ...</td>\n",
       "      <td>[0.0, 0.0, 0.0, 0.0, 0.0, 0.0, 0.0, 0.0, 0.0, ...</td>\n",
       "      <td>[0.0, 0.0, 0.0, 0.0, 0.0, 0.0, 0.0, 0.0, 0.0, ...</td>\n",
       "      <td>[-322.6936950683594, 372.1819763183594, 106.36...</td>\n",
       "      <td>[0.15472707, 0.180044, 0.058916062, -0.1492823...</td>\n",
       "    </tr>\n",
       "    <tr>\n",
       "      <th>2</th>\n",
       "      <td>[-8.262743949890137, 6.465813159942627, 2.7923...</td>\n",
       "      <td>[0.0, 0.0, 0.0, 0.0, 0.0, 0.0, 0.0, 0.0, 0.0, ...</td>\n",
       "      <td>[-251.20559692382812, 226.59852600097656, 66.5...</td>\n",
       "      <td>[-686.8019409179688, 642.6251831054688, 184.94...</td>\n",
       "      <td>[-287.0037841796875, 331.0715637207031, 94.080...</td>\n",
       "      <td>[0.07150086, 0.2914484, 0.22022225, 0.03179594...</td>\n",
       "    </tr>\n",
       "    <tr>\n",
       "      <th>3</th>\n",
       "      <td>[-14.887393951416016, 12.364590644836426, 3.62...</td>\n",
       "      <td>[-128.74452209472656, 101.897216796875, 38.964...</td>\n",
       "      <td>[0.0, 0.0, 0.0, 0.0, 0.0, 0.0, 0.0, 0.0, 0.0, ...</td>\n",
       "      <td>[0.0, 0.0, 0.0, 0.0, 0.0, 0.0, 0.0, 0.0, 0.0, ...</td>\n",
       "      <td>[0.0, 0.0, 0.0, 0.0, 0.0, 0.0, 0.0, 0.0, 0.0, ...</td>\n",
       "      <td>[-0.36002898, -0.122149296, 0.3940986, -0.1184...</td>\n",
       "    </tr>\n",
       "    <tr>\n",
       "      <th>4</th>\n",
       "      <td>[-8.256855964660645, 6.6692585945129395, 3.003...</td>\n",
       "      <td>[0.0, 0.0, 0.0, 0.0, 0.0, 0.0, 0.0, 0.0, 0.0, ...</td>\n",
       "      <td>[-722.5352783203125, 741.4974365234375, 204.30...</td>\n",
       "      <td>[-828.4495849609375, 849.4647827148438, 270.01...</td>\n",
       "      <td>[0.0, 0.0, 0.0, 0.0, 0.0, 0.0, 0.0, 0.0, 0.0, ...</td>\n",
       "      <td>[0.17267072, 0.32102612, 0.17131382, -0.121185...</td>\n",
       "    </tr>\n",
       "  </tbody>\n",
       "</table>\n",
       "</div>"
      ],
      "text/plain": [
       "                                          categories  \\\n",
       "0  [-37.96372604370117, 25.06910514831543, 11.810...   \n",
       "1  [0.0, 0.0, 0.0, 0.0, 0.0, 0.0, 0.0, 0.0, 0.0, ...   \n",
       "2  [-8.262743949890137, 6.465813159942627, 2.7923...   \n",
       "3  [-14.887393951416016, 12.364590644836426, 3.62...   \n",
       "4  [-8.256855964660645, 6.6692585945129395, 3.003...   \n",
       "\n",
       "                                         description  \\\n",
       "0  [-109.79251861572266, 87.87286376953125, 37.89...   \n",
       "1  [0.0, 0.0, 0.0, 0.0, 0.0, 0.0, 0.0, 0.0, 0.0, ...   \n",
       "2  [0.0, 0.0, 0.0, 0.0, 0.0, 0.0, 0.0, 0.0, 0.0, ...   \n",
       "3  [-128.74452209472656, 101.897216796875, 38.964...   \n",
       "4  [0.0, 0.0, 0.0, 0.0, 0.0, 0.0, 0.0, 0.0, 0.0, ...   \n",
       "\n",
       "                                    website_articles  \\\n",
       "0  [-893.5466918945312, 936.6048583984375, 181.56...   \n",
       "1  [0.0, 0.0, 0.0, 0.0, 0.0, 0.0, 0.0, 0.0, 0.0, ...   \n",
       "2  [-251.20559692382812, 226.59852600097656, 66.5...   \n",
       "3  [0.0, 0.0, 0.0, 0.0, 0.0, 0.0, 0.0, 0.0, 0.0, ...   \n",
       "4  [-722.5352783203125, 741.4974365234375, 204.30...   \n",
       "\n",
       "                          website_text_concatenation  \\\n",
       "0  [-771.6729125976562, 824.125244140625, 167.966...   \n",
       "1  [0.0, 0.0, 0.0, 0.0, 0.0, 0.0, 0.0, 0.0, 0.0, ...   \n",
       "2  [-686.8019409179688, 642.6251831054688, 184.94...   \n",
       "3  [0.0, 0.0, 0.0, 0.0, 0.0, 0.0, 0.0, 0.0, 0.0, ...   \n",
       "4  [-828.4495849609375, 849.4647827148438, 270.01...   \n",
       "\n",
       "                               tabular_company_about  \\\n",
       "0  [-48.09288024902344, 55.33234786987305, 19.783...   \n",
       "1  [-322.6936950683594, 372.1819763183594, 106.36...   \n",
       "2  [-287.0037841796875, 331.0715637207031, 94.080...   \n",
       "3  [0.0, 0.0, 0.0, 0.0, 0.0, 0.0, 0.0, 0.0, 0.0, ...   \n",
       "4  [0.0, 0.0, 0.0, 0.0, 0.0, 0.0, 0.0, 0.0, 0.0, ...   \n",
       "\n",
       "                                                   0  \n",
       "0  [-0.06836716, -0.12800892, 0.21751304, -0.1467...  \n",
       "1  [0.15472707, 0.180044, 0.058916062, -0.1492823...  \n",
       "2  [0.07150086, 0.2914484, 0.22022225, 0.03179594...  \n",
       "3  [-0.36002898, -0.122149296, 0.3940986, -0.1184...  \n",
       "4  [0.17267072, 0.32102612, 0.17131382, -0.121185...  "
      ]
     },
     "execution_count": 39,
     "metadata": {},
     "output_type": "execute_result"
    }
   ],
   "source": [
    "final_df.head()"
   ]
  },
  {
   "cell_type": "markdown",
   "id": "ccc0a088-8c0d-4098-86fd-05d7799be1b1",
   "metadata": {},
   "source": [
    "--------------------------"
   ]
  },
  {
   "cell_type": "markdown",
   "id": "c2e2bae5-1232-45f8-b71c-5a616d10bbdc",
   "metadata": {},
   "source": [
    "# Supervised"
   ]
  },
  {
   "cell_type": "code",
   "execution_count": 40,
   "id": "e74b5720-7fd6-4de3-81a6-c68f7b03de7b",
   "metadata": {},
   "outputs": [],
   "source": [
    "k = 5\n",
    "num_epochs = 50\n",
    "batch_size = 32"
   ]
  },
  {
   "cell_type": "code",
   "execution_count": 41,
   "id": "7dc9ccc9-afa5-4768-a4d7-99fb7ffe9828",
   "metadata": {},
   "outputs": [],
   "source": [
    "# k fold CV due to small size of dataset (don't need to worry about stratification due to class balance)\n",
    "\n",
    "kf = KFold(n_splits=k, shuffle=True, random_state=42)"
   ]
  },
  {
   "cell_type": "code",
   "execution_count": 42,
   "id": "9c92eda6-1397-425c-a210-e55aea881efa",
   "metadata": {},
   "outputs": [],
   "source": [
    "# Concatenating all features together into single embedding to make forward handling in pytorch easier\n",
    "\n",
    "single_feature = []\n",
    "for index, row in final_df.iterrows():\n",
    "    single_feature.append(np.hstack(row))"
   ]
  },
  {
   "cell_type": "code",
   "execution_count": 43,
   "id": "d342d4ce-6f0a-4079-9e62-17b0569a4071",
   "metadata": {},
   "outputs": [],
   "source": [
    "data = torch.FloatTensor(np.array(single_feature))\n",
    "labels = torch.FloatTensor(modeling_df['is_full_service'].values).view((1300, 1))"
   ]
  },
  {
   "cell_type": "code",
   "execution_count": 44,
   "id": "6e19466a-ec99-48a7-abd7-b8329c18280e",
   "metadata": {},
   "outputs": [],
   "source": [
    "class CustomDataset(Dataset):\n",
    "    def __init__(self, data, labels):\n",
    "        self.data = data\n",
    "        self.labels = labels\n",
    "\n",
    "    def __len__(self):\n",
    "        return len(self.data)\n",
    "\n",
    "    def __getitem__(self, idx):\n",
    "        sample = {'data': self.data[idx], 'label': self.labels[idx]}\n",
    "        return sample"
   ]
  },
  {
   "cell_type": "code",
   "execution_count": 45,
   "id": "af909a3c-783f-4c9f-a9c4-04f87ef38efc",
   "metadata": {},
   "outputs": [],
   "source": [
    "fold_data_loaders = []\n",
    "\n",
    "for train_indices, val_indices in kf.split(data):\n",
    "    X_train, X_val = data[train_indices], data[val_indices]\n",
    "    y_train, y_val = labels[train_indices], labels[val_indices]\n",
    "\n",
    "    train_dataset = CustomDataset(X_train, y_train)\n",
    "    val_dataset = CustomDataset(X_val, y_val)\n",
    "\n",
    "    train_loader = DataLoader(train_dataset, batch_size=batch_size, shuffle=True)\n",
    "    val_loader = DataLoader(val_dataset, batch_size=batch_size)\n",
    "\n",
    "    fold_data_loaders.append({'train_loader': train_loader, 'val_loader': val_loader})"
   ]
  },
  {
   "cell_type": "code",
   "execution_count": 46,
   "id": "6ba963b0-ebe0-4797-bd21-1c52260603a3",
   "metadata": {},
   "outputs": [],
   "source": [
    "class BinaryTextClassifier(nn.Module):\n",
    "    def __init__(self, input_dim):\n",
    "        super(BinaryTextClassifier, self).__init__()\n",
    "        self.seq = nn.Sequential(\n",
    "                nn.Linear(input_dim, 128),\n",
    "                nn.ReLU(),\n",
    "\n",
    "                nn.Linear(128, 64),\n",
    "                nn.ReLU(),\n",
    "\n",
    "                nn.Linear(64, 32),\n",
    "                nn.ReLU(),\n",
    "\n",
    "                nn.Linear(32, 1),\n",
    "            \n",
    "                nn.Sigmoid()\n",
    "            )\n",
    "\n",
    "    def forward(self, x):\n",
    "        return self.seq(x)"
   ]
  },
  {
   "cell_type": "code",
   "execution_count": 48,
   "id": "a4fdf137-9556-4e94-abe4-e4d724009e9a",
   "metadata": {},
   "outputs": [],
   "source": [
    "model = BinaryTextClassifier(2304)\n",
    "criterion = torch.nn.BCELoss()\n",
    "optimizer = torch.optim.SGD(model.parameters(), lr=0.01)"
   ]
  },
  {
   "cell_type": "code",
   "execution_count": 49,
   "id": "5bb2b557-b9a2-4293-bbce-81212353c292",
   "metadata": {
    "collapsed": true,
    "jupyter": {
     "outputs_hidden": true
    },
    "tags": []
   },
   "outputs": [
    {
     "name": "stdout",
     "output_type": "stream",
     "text": [
      "FOLD 0************\n",
      "Epoch 0\n",
      "Epoch 1\n",
      "Epoch 2\n",
      "Epoch 3\n",
      "Epoch 4\n",
      "Epoch 5\n",
      "Epoch 6\n",
      "Epoch 7\n",
      "Epoch 8\n",
      "Epoch 9\n",
      "Epoch 10\n",
      "Epoch 11\n",
      "Epoch 12\n",
      "Epoch 13\n",
      "Epoch 14\n",
      "Epoch 15\n",
      "Epoch 16\n",
      "Epoch 17\n",
      "Epoch 18\n",
      "Epoch 19\n",
      "Epoch 20\n",
      "Epoch 21\n",
      "Epoch 22\n",
      "Epoch 23\n",
      "Epoch 24\n",
      "Epoch 25\n",
      "Epoch 26\n",
      "Epoch 27\n",
      "Epoch 28\n",
      "Epoch 29\n",
      "Epoch 30\n",
      "Epoch 31\n",
      "Epoch 32\n",
      "Epoch 33\n",
      "Epoch 34\n",
      "Epoch 35\n",
      "Epoch 36\n",
      "Epoch 37\n",
      "Epoch 38\n",
      "Epoch 39\n",
      "Epoch 40\n",
      "Epoch 41\n",
      "Epoch 42\n",
      "Epoch 43\n",
      "Epoch 44\n",
      "Epoch 45\n",
      "Epoch 46\n",
      "Epoch 47\n",
      "Epoch 48\n",
      "Epoch 49\n",
      "FOLD 0- Train Loss: 45249.6849155426, Accuracy: 836816\n",
      "FOLD 0- Validation Loss: 200.0, Accuracy: 16\n",
      "FOLD 1************\n",
      "Epoch 0\n",
      "Epoch 1\n",
      "Epoch 2\n",
      "Epoch 3\n",
      "Epoch 4\n",
      "Epoch 5\n",
      "Epoch 6\n",
      "Epoch 7\n",
      "Epoch 8\n",
      "Epoch 9\n",
      "Epoch 10\n",
      "Epoch 11\n",
      "Epoch 12\n",
      "Epoch 13\n",
      "Epoch 14\n",
      "Epoch 15\n",
      "Epoch 16\n",
      "Epoch 17\n",
      "Epoch 18\n",
      "Epoch 19\n",
      "Epoch 20\n",
      "Epoch 21\n",
      "Epoch 22\n",
      "Epoch 23\n",
      "Epoch 24\n",
      "Epoch 25\n",
      "Epoch 26\n",
      "Epoch 27\n",
      "Epoch 28\n",
      "Epoch 29\n",
      "Epoch 30\n",
      "Epoch 31\n",
      "Epoch 32\n",
      "Epoch 33\n",
      "Epoch 34\n",
      "Epoch 35\n",
      "Epoch 36\n",
      "Epoch 37\n",
      "Epoch 38\n",
      "Epoch 39\n",
      "Epoch 40\n",
      "Epoch 41\n",
      "Epoch 42\n",
      "Epoch 43\n",
      "Epoch 44\n",
      "Epoch 45\n",
      "Epoch 46\n",
      "Epoch 47\n",
      "Epoch 48\n",
      "Epoch 49\n",
      "FOLD 1- Train Loss: 43522.349972724915, Accuracy: 828944\n",
      "FOLD 1- Validation Loss: 150.67469787597656, Accuracy: 16\n",
      "FOLD 2************\n",
      "Epoch 0\n",
      "Epoch 1\n",
      "Epoch 2\n",
      "Epoch 3\n",
      "Epoch 4\n",
      "Epoch 5\n",
      "Epoch 6\n",
      "Epoch 7\n",
      "Epoch 8\n",
      "Epoch 9\n",
      "Epoch 10\n",
      "Epoch 11\n",
      "Epoch 12\n",
      "Epoch 13\n",
      "Epoch 14\n",
      "Epoch 15\n",
      "Epoch 16\n",
      "Epoch 17\n",
      "Epoch 18\n",
      "Epoch 19\n",
      "Epoch 20\n",
      "Epoch 21\n",
      "Epoch 22\n",
      "Epoch 23\n",
      "Epoch 24\n",
      "Epoch 25\n",
      "Epoch 26\n",
      "Epoch 27\n",
      "Epoch 28\n",
      "Epoch 29\n",
      "Epoch 30\n",
      "Epoch 31\n",
      "Epoch 32\n",
      "Epoch 33\n",
      "Epoch 34\n",
      "Epoch 35\n",
      "Epoch 36\n",
      "Epoch 37\n",
      "Epoch 38\n",
      "Epoch 39\n",
      "Epoch 40\n",
      "Epoch 41\n",
      "Epoch 42\n",
      "Epoch 43\n",
      "Epoch 44\n",
      "Epoch 45\n",
      "Epoch 46\n",
      "Epoch 47\n",
      "Epoch 48\n",
      "Epoch 49\n",
      "FOLD 2- Train Loss: 8785.776395618916, Accuracy: 835328\n",
      "FOLD 2- Validation Loss: 1.2963852882385254, Accuracy: 16\n",
      "FOLD 3************\n",
      "Epoch 0\n",
      "Epoch 1\n",
      "Epoch 2\n",
      "Epoch 3\n",
      "Epoch 4\n",
      "Epoch 5\n",
      "Epoch 6\n",
      "Epoch 7\n",
      "Epoch 8\n",
      "Epoch 9\n",
      "Epoch 10\n",
      "Epoch 11\n",
      "Epoch 12\n",
      "Epoch 13\n",
      "Epoch 14\n",
      "Epoch 15\n",
      "Epoch 16\n",
      "Epoch 17\n",
      "Epoch 18\n",
      "Epoch 19\n",
      "Epoch 20\n",
      "Epoch 21\n",
      "Epoch 22\n",
      "Epoch 23\n",
      "Epoch 24\n",
      "Epoch 25\n",
      "Epoch 26\n",
      "Epoch 27\n",
      "Epoch 28\n",
      "Epoch 29\n",
      "Epoch 30\n",
      "Epoch 31\n",
      "Epoch 32\n",
      "Epoch 33\n",
      "Epoch 34\n",
      "Epoch 35\n",
      "Epoch 36\n",
      "Epoch 37\n",
      "Epoch 38\n",
      "Epoch 39\n",
      "Epoch 40\n",
      "Epoch 41\n",
      "Epoch 42\n",
      "Epoch 43\n",
      "Epoch 44\n",
      "Epoch 45\n",
      "Epoch 46\n",
      "Epoch 47\n",
      "Epoch 48\n",
      "Epoch 49\n",
      "FOLD 3- Train Loss: 1130.26862347126, Accuracy: 811536\n",
      "FOLD 3- Validation Loss: 1.467988133430481, Accuracy: 16\n",
      "FOLD 4************\n",
      "Epoch 0\n",
      "Epoch 1\n",
      "Epoch 2\n",
      "Epoch 3\n",
      "Epoch 4\n",
      "Epoch 5\n",
      "Epoch 6\n",
      "Epoch 7\n",
      "Epoch 8\n",
      "Epoch 9\n",
      "Epoch 10\n",
      "Epoch 11\n",
      "Epoch 12\n",
      "Epoch 13\n",
      "Epoch 14\n",
      "Epoch 15\n",
      "Epoch 16\n",
      "Epoch 17\n",
      "Epoch 18\n",
      "Epoch 19\n",
      "Epoch 20\n",
      "Epoch 21\n",
      "Epoch 22\n",
      "Epoch 23\n",
      "Epoch 24\n",
      "Epoch 25\n",
      "Epoch 26\n",
      "Epoch 27\n",
      "Epoch 28\n",
      "Epoch 29\n",
      "Epoch 30\n",
      "Epoch 31\n",
      "Epoch 32\n",
      "Epoch 33\n",
      "Epoch 34\n",
      "Epoch 35\n",
      "Epoch 36\n",
      "Epoch 37\n",
      "Epoch 38\n",
      "Epoch 39\n",
      "Epoch 40\n",
      "Epoch 41\n",
      "Epoch 42\n",
      "Epoch 43\n",
      "Epoch 44\n",
      "Epoch 45\n",
      "Epoch 46\n",
      "Epoch 47\n",
      "Epoch 48\n",
      "Epoch 49\n",
      "FOLD 4- Train Loss: 1123.0320121645927, Accuracy: 816272\n",
      "FOLD 4- Validation Loss: 1.4474636316299438, Accuracy: 16\n"
     ]
    }
   ],
   "source": [
    "for fold, data_loaders in enumerate(fold_data_loaders):\n",
    "    print(f\"FOLD {fold}************\")\n",
    "    train_loader = data_loaders['train_loader']\n",
    "    val_loader = data_loaders['val_loader']\n",
    "\n",
    "    train_loss = 0\n",
    "    train_acc = 0\n",
    "    for epoch in range(num_epochs):\n",
    "        print(f\"Epoch {epoch}\")\n",
    "        for batch in train_loader:\n",
    "            optimizer.zero_grad()\n",
    "            output = model(batch['data'])\n",
    "            loss = criterion(output, batch['label'])\n",
    "            train_loss += loss.item()\n",
    "            loss.backward()\n",
    "            optimizer.step()\n",
    "            train_acc += (output.argmax(1) == batch['label']).sum().item()\n",
    "    \n",
    "    print(f\"FOLD {fold}- Train Loss: {train_loss}, Accuracy: {train_acc}\")\n",
    "    for batch in val_loader:\n",
    "        loss = 0\n",
    "        acc = 0\n",
    "        with torch.no_grad():\n",
    "            output = model(batch['data'].float())\n",
    "            loss = criterion(output, batch['label'])\n",
    "            loss += loss.item()\n",
    "            acc += (output.argmax(1) == batch['label']).sum().item()\n",
    "            \n",
    "    print(f\"FOLD {fold}- Validation Loss: {loss}, Accuracy: {acc}\")"
   ]
  },
  {
   "cell_type": "markdown",
   "id": "ac54fc68-3b3f-42cf-80dd-27b2cc624300",
   "metadata": {},
   "source": [
    "Next step would be assessing accuracy and classification based metrics on a test set, namely: accuracy_score, classification_report, confusion_matrix... I will skip that here since from the print statements the model does not appear to be very good. "
   ]
  },
  {
   "cell_type": "markdown",
   "id": "3c509e4c-e6cb-411c-9c4f-02746a73a988",
   "metadata": {
    "tags": []
   },
   "source": [
    "# Unsupervised"
   ]
  },
  {
   "cell_type": "code",
   "execution_count": 50,
   "id": "e530b97b-f458-4e4c-8bda-ef1738cea05e",
   "metadata": {},
   "outputs": [],
   "source": [
    "data = np.array(single_feature)\n",
    "label = modeling_df['is_full_service'].values"
   ]
  },
  {
   "cell_type": "code",
   "execution_count": 51,
   "id": "a64cc977-5207-456b-9d93-7bee0087b20c",
   "metadata": {},
   "outputs": [],
   "source": [
    "pca = PCA(n_components=3)\n",
    "reduced1 = pca.fit_transform(data)"
   ]
  },
  {
   "cell_type": "code",
   "execution_count": 52,
   "id": "100e97a6-ffaa-4581-a098-13b21423a33f",
   "metadata": {},
   "outputs": [],
   "source": [
    "clusterer = hdbscan.HDBSCAN(min_cluster_size=30)\n",
    "\n",
    "clusterer.fit(data)\n",
    "labels = clusterer.labels_\n",
    "n_clusters = len(set(labels)) - (1 if -1 in labels else 0)"
   ]
  },
  {
   "cell_type": "code",
   "execution_count": 53,
   "id": "15a36ba7-8390-46bd-88c3-698f345eab88",
   "metadata": {},
   "outputs": [
    {
     "data": {
      "image/png": "[encoded data removed]",
      "text/plain": [
       "<Figure size 432x288 with 1 Axes>"
      ]
     },
     "metadata": {
      "needs_background": "light"
     },
     "output_type": "display_data"
    }
   ],
   "source": [
    "fig = plt.figure()\n",
    "ax = fig.add_subplot(111, projection='3d')\n",
    "\n",
    "ax.scatter(reduced1[:, 0], reduced1[:, 1], reduced1[:, 2], c=labels, marker='o', label='Sample')\n",
    "ax.set_xlabel('X Axis')\n",
    "ax.set_ylabel('Y Axis')\n",
    "ax.set_zlabel('Z Axis')\n",
    "\n",
    "ax.legend()\n",
    "\n",
    "plt.show()"
   ]
  },
  {
   "cell_type": "markdown",
   "id": "1141cf11-0f25-42fa-ac35-170d0edfef08",
   "metadata": {},
   "source": [
    "It looks like there is good separation when trying to force the clustering into 2 classes (via PCA and setting a minimum size for the cluster), but upon closer inspection the classification accuracy is close to 50% signifying a random guess. So unsurprisingly, not only is 3 principal components too few, but demensionality reduction (and even combining all embeddings into a single vector) might not be helpful."
   ]
  },
  {
   "cell_type": "code",
   "execution_count": 61,
   "id": "81896f8d-49ae-4742-a729-969afba032f0",
   "metadata": {},
   "outputs": [],
   "source": [
    "# Different attempt, this time by creating a similarity matrix using cosine distance\n",
    "\n",
    "similarity_matrix = cosine_similarity(single_feature)\n",
    "k = 2  \n",
    "kmeans = KMeans(n_clusters=k)\n",
    "cluster_labels = kmeans.fit_predict(similarity_matrix)\n",
    "\n",
    "pca = PCA(n_components=3)\n",
    "reduced2 = pca.fit_transform(single_feature)"
   ]
  },
  {
   "cell_type": "code",
   "execution_count": 62,
   "id": "bf1d88fd-30cf-4ee2-83f5-c26e728e7821",
   "metadata": {},
   "outputs": [
    {
     "data": {
      "image/png": "[encoded data removed]",
      "text/plain": [
       "<Figure size 432x288 with 1 Axes>"
      ]
     },
     "metadata": {
      "needs_background": "light"
     },
     "output_type": "display_data"
    }
   ],
   "source": [
    "fig = plt.figure()\n",
    "ax = fig.add_subplot(111, projection='3d')\n",
    "\n",
    "ax.scatter(reduced2[:, 0], reduced2[:, 1], reduced2[:, 2], c=cluster_labels, marker='o', label='Sample')\n",
    "ax.set_xlabel('X Axis')\n",
    "ax.set_ylabel('Y Axis')\n",
    "ax.set_zlabel('Z Axis')\n",
    "\n",
    "ax.legend()\n",
    "\n",
    "plt.show()"
   ]
  },
  {
   "cell_type": "markdown",
   "id": "2b4a32a4-866f-411d-8796-386020a394f5",
   "metadata": {},
   "source": [
    "A simplistic interpretation might lead to the conclusion that supervised methods are better at text classification tasks, especially with labelled data, as opposed to unsupervised methods which are better suited to EDA. However, the situation is much more complex than that. In this case, the dataset is small yet perfectly balanced in terms of class distribution. It is likely that accuracy figures would deteriorate if the class distribution was changed, making the dataset less balanced. In that sense, we can be confident that if the data had a very different distribution among its classes, results for the supervised model would fall. This means that supervised models, although very flexible and adaptable to different tasks, tend to get overfit easily. Unsupervised models theoretically are more resistant to this overfitting due to their independence from training data. Yet they also have drawbacks, especially for text datasets. For example, finding a meaningful distance function is difficult for text features, even after embedding them. "
   ]
  }
 ],
 "metadata": {
  "kernelspec": {
   "display_name": "Python 3 (ipykernel)",
   "language": "python",
   "name": "python3"
  },
  "language_info": {
   "codemirror_mode": {
    "name": "ipython",
    "version": 3
   },
   "file_extension": ".py",
   "mimetype": "text/x-python",
   "name": "python",
   "nbconvert_exporter": "python",
   "pygments_lexer": "ipython3",
   "version": "3.9.7"
  }
 },
 "nbformat": 4,
 "nbformat_minor": 5
}
