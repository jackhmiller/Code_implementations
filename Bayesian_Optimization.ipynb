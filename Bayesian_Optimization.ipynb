{
 "cells": [
  {
   "cell_type": "code",
   "execution_count": null,
   "id": "9512482d",
   "metadata": {},
   "outputs": [],
   "source": [
    "A quick demonstration of Bayesian optimization. The corresponding blog post can be found here: https://jackhmiller.github.io/My-DS-Blog/2018/07/21/bayesian-opt.html"
   ]
  },
  {
   "cell_type": "code",
   "execution_count": null,
   "id": "32475a43-335a-41a0-a19c-e470fe090987",
   "metadata": {},
   "outputs": [],
   "source": [
    "import numpy as np\n",
    "import matplotlib.pyplot as plt\n",
    "from scipy.stats import norm\n",
    "from scipy.optimize import minimize\n",
    "from sklearn.gaussian_process import GaussianProcessRegressor\n",
    "from sklearn.gaussian_process.kernels import ConstantKernel, Matern\n",
    "%matplotlib inline"
   ]
  },
  {
   "cell_type": "code",
   "execution_count": null,
   "id": "184fad68-7cec-494d-9ab9-bfce8372ddc6",
   "metadata": {},
   "outputs": [],
   "source": [
    "bounds = np.array([[-1.0, 2.0]])\n",
    "noise = .2"
   ]
  },
  {
   "cell_type": "code",
   "execution_count": null,
   "id": "a557de1e-0311-4552-acb7-dce3a10f2c47",
   "metadata": {},
   "outputs": [],
   "source": [
    "def f(X, noise=noise):\n",
    "    return -np.sin(3*X) - X**2 + 0.7*X + noise * np.random.randn(*X.shape)"
   ]
  },
  {
   "cell_type": "code",
   "execution_count": null,
   "id": "4ee2164e-0e6e-464b-99f6-14523d3f9e6b",
   "metadata": {},
   "outputs": [],
   "source": [
    "X_init = np.array([[-0.9], [1.1]])\n",
    "Y_init = f(X_init)"
   ]
  },
  {
   "cell_type": "code",
   "execution_count": null,
   "id": "2cd3c8c4-baff-48be-8e09-0bb11a8889b9",
   "metadata": {},
   "outputs": [],
   "source": [
    "X = np.arange(bounds[:, 0], bounds[:, 1], 0.01).reshape(-1, 1)\n",
    "# Noise-free objective\n",
    "Y = f(X,0)\n",
    "plt.plot(X, Y, 'y--', lw=2, label='Noise-free objective')\n",
    "plt.plot(X, f(X), 'bx', lw=1, alpha=0.1, label='Noisy samples')\n",
    "plt.plot(X_init, Y_init, 'kx', mew=3, label='Initial samples')\n",
    "plt.legend()"
   ]
  },
  {
   "cell_type": "code",
   "execution_count": null,
   "id": "baf8a275-698b-45c9-9f69-cdabaaaf6c48",
   "metadata": {},
   "outputs": [],
   "source": [
    "def ei_acquisition(X, X_sample, Y_sample, gpr, xi=0.01):\n",
    "    \"\"\"\n",
    "    Expected improvement at points X using Gaussian surrogate model\n",
    "    \"\"\"\n",
    "    mu, sigma = gpr.predict(X, return_std=True)\n",
    "    mu_sample = gpr.predict(X_sample)\n",
    "    \n",
    "    sigma = sigma.reshape(-1, 1)\n",
    "    \n",
    "    mu_sample_opt = np.max(mu_sample)\n",
    "    \n",
    "    with np.errstate(divide='warn'):\n",
    "        imp = mu - mu_sample_opt - xi\n",
    "        Z = imp / sigma\n",
    "        ei = imp * norm.cdf(Z) + sigma * norm.pdf(Z)\n",
    "        #ei[sigma == 0.0] = 0.0\n",
    "\n",
    "    return ei[0]"
   ]
  },
  {
   "cell_type": "code",
   "execution_count": null,
   "id": "9e2843d6-1116-468e-8005-2055937759ab",
   "metadata": {},
   "outputs": [],
   "source": [
    "def min_obj(X):\n",
    "    # Minimization objective is the negative acquisition function\n",
    "    return -ei_acquisition(X.reshape(-1, dim), X_sample, Y_sample, gpr)"
   ]
  },
  {
   "cell_type": "code",
   "execution_count": null,
   "id": "3a683ca7-10a9-4890-9d31-55d43b7ab6f7",
   "metadata": {
    "tags": []
   },
   "outputs": [],
   "source": [
    "def plot_approximation(gpr, X, Y, X_sample, Y_sample, X_next=None, show_legend=False):\n",
    "    mu, std = gpr.predict(X, return_std=True)\n",
    "    plt.fill_between(X.ravel(), \n",
    "                     mu.ravel() + 1.96 * std, \n",
    "                     mu.ravel() - 1.96 * std, \n",
    "                     alpha=0.1) \n",
    "    plt.plot(X, Y, 'y--', lw=1, label='Noise-free objective')\n",
    "    plt.plot(X, mu, 'b-', lw=1, label='Surrogate function')\n",
    "    plt.plot(X_sample, Y_sample, 'kx', mew=3, label='Noisy samples')\n",
    "    if X_next:\n",
    "        plt.axvline(x=X_next, ls='--', c='k', lw=1)\n",
    "    if show_legend:\n",
    "        plt.legend()\n",
    "\n",
    "def plot_acquisition(X, Y, X_next, show_legend=False):\n",
    "    plt.plot(X, Y, 'r-', lw=1, label='Acquisition function')\n",
    "    plt.axvline(x=X_next, ls='--', c='k', lw=1, label='Next sampling location')\n",
    "    if show_legend:\n",
    "        plt.legend()    \n",
    "        \n",
    "def plot_convergence(X_sample, Y_sample, n_init=2):\n",
    "    plt.figure(figsize=(12, 3))\n",
    "\n",
    "    x = X_sample[n_init:].ravel()\n",
    "    y = Y_sample[n_init:].ravel()\n",
    "    r = range(1, len(x)+1)\n",
    "    \n",
    "    x_neighbor_dist = [np.abs(a-b) for a, b in zip(x, x[1:])]\n",
    "    y_max_watermark = np.maximum.accumulate(y)\n",
    "    \n",
    "    plt.subplot(1, 2, 1)\n",
    "    plt.plot(r[1:], x_neighbor_dist, 'bo-')\n",
    "    plt.xlabel('Iteration')\n",
    "    plt.ylabel('Distance')\n",
    "    plt.title('Distance between consecutive x\\'s')\n",
    "\n",
    "    plt.subplot(1, 2, 2)\n",
    "    plt.plot(r, y_max_watermark, 'ro-')\n",
    "    plt.xlabel('Iteration')\n",
    "    plt.ylabel('Best Y')\n",
    "    plt.title('Value of best selected sample')"
   ]
  },
  {
   "cell_type": "code",
   "execution_count": null,
   "id": "26aff5f1-05b4-4a54-80ef-16a46f48a682",
   "metadata": {},
   "outputs": [],
   "source": [
    "m52 = ConstantKernel(1.0) * Matern(length_scale=1.0, nu=2.5)\n",
    "gpr = GaussianProcessRegressor(kernel=m52, alpha=noise**2)"
   ]
  },
  {
   "cell_type": "code",
   "execution_count": null,
   "id": "fdcb8bb2-dc1b-4b41-be14-79bcf072df13",
   "metadata": {},
   "outputs": [],
   "source": [
    "# Initialize samples\n",
    "X_sample = X_init\n",
    "Y_sample = Y_init\n",
    "\n",
    "# Number of iterations\n",
    "n_iter = 10"
   ]
  },
  {
   "cell_type": "code",
   "execution_count": null,
   "id": "e1f0784f-b704-494b-b4bb-9a52c9f27cdc",
   "metadata": {},
   "outputs": [],
   "source": [
    "fig = plt.figure(figsize=(12, n_iter * 3))\n",
    "plt.subplots_adjust(hspace=0.4)\n",
    "\n",
    "for i in range(n_iter):\n",
    "    # Update Gaussian process with existing samples\n",
    "    gpr.fit(X_sample, Y_sample)\n",
    "\n",
    "    # Obtain next sampling point from the acquisition function (expected_improvement)\n",
    "    dim = X_sample.shape[1]\n",
    "    min_val = 1\n",
    "    min_x = None\n",
    "    for x0 in np.random.uniform(bounds[:, 0], bounds[:, 1], size=(25, dim)):\n",
    "        res = minimize(min_obj, x0=x0, bounds=bounds, method='L-BFGS-B')        \n",
    "        if res.fun < min_val:\n",
    "            min_val = res.fun[0]\n",
    "            min_x = res.x  \n",
    "    \n",
    "    X_next = min_x.reshape(-1, 1)\n",
    "    # Obtain next noisy sample from the objective function\n",
    "    Y_next = f(X_next, noise)\n",
    "    \n",
    "    # Plot samples, surrogate function, noise-free objective and next sampling location\n",
    "    plt.subplot(n_iter, 2, 2 * i + 1)\n",
    "    plot_approximation(gpr, X, Y, X_sample, Y_sample, X_next, show_legend=i==0)\n",
    "    plt.title(f'Iteration {i+1}')\n",
    "\n",
    "    plt.subplot(n_iter, 2, 2 * i + 2)\n",
    "    plot_acquisition(X, ei_acquisition(X, X_sample, Y_sample, gpr), X_next, show_legend=i==0)\n",
    "    \n",
    "    # Add sample to previous samples\n",
    "    X_sample = np.vstack((X_sample, X_next))\n",
    "    Y_sample = np.vstack((Y_sample, Y_next))"
   ]
  },
  {
   "cell_type": "code",
   "execution_count": null,
   "id": "3a69495e-5df1-41d6-a747-90b7e64f2005",
   "metadata": {},
   "outputs": [],
   "source": [
    "plot_convergence(X_sample, Y_sample)"
   ]
  },
  {
   "cell_type": "code",
   "execution_count": null,
   "id": "94978aa9-8e2b-4f4e-86ef-bbd6534dcccc",
   "metadata": {},
   "outputs": [],
   "source": []
  }
 ],
 "metadata": {
  "kernelspec": {
   "display_name": "sktime",
   "language": "python",
   "name": "sktime"
  },
  "language_info": {
   "codemirror_mode": {
    "name": "ipython",
    "version": 3
   },
   "file_extension": ".py",
   "mimetype": "text/x-python",
   "name": "python",
   "nbconvert_exporter": "python",
   "pygments_lexer": "ipython3",
   "version": "3.9.7"
  }
 },
 "nbformat": 4,
 "nbformat_minor": 5
}
